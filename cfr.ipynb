{
 "cells": [
  {
   "cell_type": "code",
   "execution_count": 1,
   "metadata": {},
   "outputs": [],
   "source": [
    "import matplotlib.pyplot as plt\n",
    "import numpy as np\n",
    "import random\n",
    "np.set_printoptions(suppress=True)"
   ]
  },
  {
   "cell_type": "code",
   "execution_count": 2,
   "metadata": {},
   "outputs": [],
   "source": [
    "ROCK,PAPER,SCISSORS = 0,1,2\n",
    "NUM_ACTIONS = 3 #How many actions a player can take\n",
    "strategy = np.array([0.0, 0.0, 0.0]) #define strategy of the player (to start)\n",
    "oppStrategy = np.array([0.4, 0.3, 0.3]) #define strategy of the opponent (to start)"
   ]
  },
  {
   "cell_type": "code",
   "execution_count": 3,
   "metadata": {},
   "outputs": [],
   "source": [
    "def value(p1, p2):\n",
    "    if p1 == p2:\n",
    "        return 0\n",
    "    elif p1 == ROCK and p2 == SCISSORS:\n",
    "        return 1\n",
    "    elif p1 == SCISSORS and p2 == PAPER:\n",
    "        return 1\n",
    "    elif p1 == PAPER and p2 == ROCK:\n",
    "        return 1\n",
    "    else:\n",
    "        return -1"
   ]
  },
  {
   "cell_type": "code",
   "execution_count": 4,
   "metadata": {},
   "outputs": [],
   "source": [
    "def normalize(strategy):\n",
    "    strategy = np.copy(strategy)\n",
    "    normalizingSum = np.sum(strategy)\n",
    "    if normalizingSum > 0:\n",
    "        strategy /= normalizingSum\n",
    "    else:\n",
    "        strategy = np.ones(strategy.shape[0]) / strategy.shape[0]\n",
    "    return strategy"
   ]
  },
  {
   "cell_type": "code",
   "execution_count": 5,
   "metadata": {},
   "outputs": [],
   "source": [
    "def getStrategy(regretSum):\n",
    "    return normalize(np.maximum(regretSum, 0))"
   ]
  },
  {
   "cell_type": "code",
   "execution_count": 6,
   "metadata": {},
   "outputs": [],
   "source": [
    "def getAction(strategy):\n",
    "    strategy = strategy / np.sum(strategy) #normalize\n",
    "    return np.searchsorted(np.cumsum(strategy), random.random())"
   ]
  },
  {
   "cell_type": "code",
   "execution_count": 7,
   "metadata": {},
   "outputs": [],
   "source": [
    "def train(iterations):\n",
    "    regretSum = np.zeros(NUM_ACTIONS)\n",
    "    strategySum = np.zeros(NUM_ACTIONS)\n",
    "    actionUtility = np.zeros(NUM_ACTIONS)\n",
    "    \n",
    "    for i in range(iterations):\n",
    "        strategy = getStrategy(regretSum)\n",
    "        strategySum += strategy\n",
    "        \n",
    "        myAction = getAction(strategy)\n",
    "        otherAction = getAction(oppStrategy)\n",
    "        \n",
    "        #for rock paper scissors\n",
    "        actionUtility[otherAction] = 0\n",
    "        actionUtility[(otherAction + 1) % NUM_ACTIONS] = 1\n",
    "        actionUtility[(otherAction - 1) % NUM_ACTIONS] = -1\n",
    "        \n",
    "        regretSum += actionUtility - actionUtility[myAction]\n",
    "    \n",
    "    return strategySum"
   ]
  },
  {
   "cell_type": "code",
   "execution_count": 8,
   "metadata": {},
   "outputs": [],
   "source": [
    "def getAverageStrategy(strategySum):\n",
    "    return normalize(strategySum)"
   ]
  },
  {
   "cell_type": "code",
   "execution_count": 9,
   "metadata": {},
   "outputs": [
    {
     "data": {
      "text/plain": [
       "array([0.00000333, 0.99999333, 0.00000333])"
      ]
     },
     "execution_count": 9,
     "metadata": {},
     "output_type": "execute_result"
    }
   ],
   "source": [
    "strategySum = train(100000)\n",
    "getAverageStrategy(strategySum)"
   ]
  },
  {
   "cell_type": "code",
   "execution_count": 16,
   "metadata": {},
   "outputs": [],
   "source": [
    "def plotGames(strategy):\n",
    "    vvv = []\n",
    "    for j in range(200):\n",
    "        vv = 0\n",
    "        for i in range(100):\n",
    "            myAction = getAction(strategy)\n",
    "            otherAction = getAction(oppStrategy)\n",
    "            vv += value(myAction, otherAction)\n",
    "        vvv.append(vv)\n",
    "    plt.plot(sorted(vvv))\n",
    "    print(f\"mean: {np.mean(vvv)}\")"
   ]
  },
  {
   "cell_type": "code",
   "execution_count": 17,
   "metadata": {},
   "outputs": [
    {
     "name": "stdout",
     "output_type": "stream",
     "text": [
      "[0.33 0.33 0.33]\n",
      "mean: -0.505\n"
     ]
    },
    {
     "data": {
      "image/png": "[encoded data removed]",
      "text/plain": [
       "<Figure size 432x288 with 1 Axes>"
      ]
     },
     "metadata": {
      "needs_background": "light"
     },
     "output_type": "display_data"
    }
   ],
   "source": [
    "#here we are not exploiting at all...\n",
    "strategy = np.array([0.33,0.33,0.33])\n",
    "#strategy = np.array([0,1,0]) #only throw paper, should be the optimal strategy for an agent that favours rock\n",
    "print(strategy)\n",
    "plotGames(strategy)"
   ]
  },
  {
   "cell_type": "code",
   "execution_count": 18,
   "metadata": {},
   "outputs": [
    {
     "name": "stdout",
     "output_type": "stream",
     "text": [
      "[0.00000333 0.99999333 0.00000333]\n",
      "mean: 9.815\n"
     ]
    },
    {
     "data": {
      "image/png": "[encoded data removed]",
      "text/plain": [
       "<Figure size 432x288 with 1 Axes>"
      ]
     },
     "metadata": {
      "needs_background": "light"
     },
     "output_type": "display_data"
    }
   ],
   "source": [
    "#plot the trained strategy\n",
    "strategy = getAverageStrategy(strategySum)\n",
    "print(strategy)\n",
    "plotGames(strategy)"
   ]
  },
  {
   "cell_type": "code",
   "execution_count": null,
   "metadata": {},
   "outputs": [],
   "source": []
  }
 ],
 "metadata": {
  "kernelspec": {
   "display_name": "Python 3.9.0 64-bit",
   "language": "python",
   "name": "python39064bitd4ece696d5024faf9a5ae80a54572629"
  },
  "language_info": {
   "codemirror_mode": {
    "name": "ipython",
    "version": 3
   },
   "file_extension": ".py",
   "mimetype": "text/x-python",
   "name": "python",
   "nbconvert_exporter": "python",
   "pygments_lexer": "ipython3",
   "version": "3.9.0"
  }
 },
 "nbformat": 4,
 "nbformat_minor": 4
}
