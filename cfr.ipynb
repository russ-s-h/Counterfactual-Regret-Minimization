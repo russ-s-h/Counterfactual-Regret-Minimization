{
 "cells": [
  {
   "cell_type": "code",
   "execution_count": 1,
   "metadata": {},
   "outputs": [],
   "source": [
    "import matplotlib.pyplot as plt\n",
    "import numpy as np\n",
    "import random"
   ]
  },
  {
   "cell_type": "code",
   "execution_count": 2,
   "metadata": {},
   "outputs": [],
   "source": [
    "ROCK,PAPER,SCISSORS = 0,1,2\n",
    "NUM_ACTIONS = 3 #How many actions a player can take\n",
    "regretSum = np.zeros(NUM_ACTIONS, dtype=np.float64)\n",
    "strategySum = np.zeros(NUM_ACTIONS, dtype=np.float64)\n",
    "strategy = np.array([0.0, 0.0, 0.0]) #define strategy of the player (to start)\n",
    "oppStrategy = np.array([0.4, 0.3, 0.3]) #define strategy of the opponent (to start)"
   ]
  },
  {
   "cell_type": "code",
   "execution_count": 3,
   "metadata": {},
   "outputs": [],
   "source": [
    "def value(p1, p2):\n",
    "    if p1 == p2:\n",
    "        return 0\n",
    "    elif p1 == ROCK and p2 == SCISSORS:\n",
    "        return 1\n",
    "    elif p1 == SCISSORS and p2 == PAPER:\n",
    "        return 1\n",
    "    elif p1 == PAPER and p2 == ROCK:\n",
    "        return 1\n",
    "    else:\n",
    "        return -1"
   ]
  },
  {
   "cell_type": "code",
   "execution_count": 4,
   "metadata": {},
   "outputs": [],
   "source": [
    "#accumulates in strategySum\n",
    "def getStrategy():\n",
    "    global regretSum, strategySum\n",
    "    strategy = np.maximum(regretSum, 0)\n",
    "    normalizingSum = np.sum(strategy)\n",
    "    if normalizingSum > 0:\n",
    "        strategy /= normalizingSum\n",
    "    else:\n",
    "        strategy = np.ones(NUM_ACTIONS) / NUM_ACTIONS\n",
    "    strategySum += strategy\n",
    "    return strategy"
   ]
  },
  {
   "cell_type": "code",
   "execution_count": 5,
   "metadata": {},
   "outputs": [],
   "source": [
    "def getAction(strategy):\n",
    "    strategy = strategy / np.sum(strategy) #normalize\n",
    "    rr = random.random()\n",
    "    return np.searchsorted(np.cumsum(strategy), rr)"
   ]
  },
  {
   "cell_type": "code",
   "execution_count": 6,
   "metadata": {},
   "outputs": [],
   "source": [
    "def train(iterations):\n",
    "    global regretSum\n",
    "    actionUtility = np.zeros(NUM_ACTIONS)\n",
    "    for i in range(iterations):\n",
    "        strategy = getStrategy()\n",
    "        myAction = getAction(strategy)\n",
    "        otherAction = getAction(oppStrategy)\n",
    "        #for rock paper scissors\n",
    "        actionUtility[otherAction] = 0\n",
    "        actionUtility[(otherAction + 1) % NUM_ACTIONS] = 1\n",
    "        actionUtility[(otherAction - 1) % NUM_ACTIONS] = -1\n",
    "        \n",
    "        regretSum += actionUtility - actionUtility[myAction]"
   ]
  },
  {
   "cell_type": "code",
   "execution_count": 7,
   "metadata": {},
   "outputs": [],
   "source": [
    "#uses strategySum\n",
    "def getAverageStrategy():\n",
    "    global strategySum\n",
    "    normalizingSum = np.sum(strategySum)\n",
    "    if normalizingSum > 0:\n",
    "        avgStrategy = strategySum / normalizingSum\n",
    "    else:\n",
    "        avgStrategy = np.ones(NUM_ACTIONS) / NUM_ACTIONS\n",
    "    return avgStrategy"
   ]
  },
  {
   "cell_type": "code",
   "execution_count": 8,
   "metadata": {},
   "outputs": [
    {
     "data": {
      "text/plain": [
       "array([8.93002366e-04, 9.98753035e-01, 3.53962641e-04])"
      ]
     },
     "execution_count": 8,
     "metadata": {},
     "output_type": "execute_result"
    }
   ],
   "source": [
    "train(100000)\n",
    "getAverageStrategy()"
   ]
  },
  {
   "cell_type": "code",
   "execution_count": 9,
   "metadata": {},
   "outputs": [
    {
     "data": {
      "text/plain": [
       "([<matplotlib.lines.Line2D at 0x11df1d700>], 100.64)"
      ]
     },
     "execution_count": 9,
     "metadata": {},
     "output_type": "execute_result"
    },
    {
     "data": {
      "image/png": "[encoded data removed]",
      "text/plain": [
       "<Figure size 432x288 with 1 Axes>"
      ]
     },
     "metadata": {
      "needs_background": "light"
     },
     "output_type": "display_data"
    }
   ],
   "source": [
    "#here we are not exploiting at all... just testing the methods\n",
    "vvv = []\n",
    "for j in range(200):\n",
    "    vv = 0\n",
    "    for i in range(1000):\n",
    "        strategy = getStrategy()\n",
    "        #strategy = np.array([0,1,0]) #only throw paper, should be the optimal strategy for an agent that favours rock\n",
    "        myAction = getAction(strategy)\n",
    "        otherAction = getAction(oppStrategy)\n",
    "        vv += value(myAction, otherAction)\n",
    "    vvv.append(vv)\n",
    "#plt.hist(vvv, bins = 10)\n",
    "plt.plot(sorted(vvv)), np.mean(vvv)"
   ]
  },
  {
   "cell_type": "code",
   "execution_count": null,
   "metadata": {},
   "outputs": [],
   "source": []
  }
 ],
 "metadata": {
  "kernelspec": {
   "display_name": "Python 3.9.0 64-bit",
   "language": "python",
   "name": "python39064bitd4ece696d5024faf9a5ae80a54572629"
  },
  "language_info": {
   "codemirror_mode": {
    "name": "ipython",
    "version": 3
   },
   "file_extension": ".py",
   "mimetype": "text/x-python",
   "name": "python",
   "nbconvert_exporter": "python",
   "pygments_lexer": "ipython3",
   "version": "3.9.0"
  }
 },
 "nbformat": 4,
 "nbformat_minor": 4
}
