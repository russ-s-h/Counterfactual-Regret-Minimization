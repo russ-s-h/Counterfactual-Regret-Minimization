{
 "cells": [
  {
   "cell_type": "code",
   "execution_count": 1,
   "metadata": {},
   "outputs": [],
   "source": [
    "import matplotlib.pyplot as plt\n",
    "import numpy as np\n",
    "import random\n",
    "np.set_printoptions(suppress=True)"
   ]
  },
  {
   "cell_type": "code",
   "execution_count": 2,
   "metadata": {},
   "outputs": [],
   "source": [
    "ROCK,PAPER,SCISSORS = 0,1,2\n",
    "NUM_ACTIONS = 3 #How many actions a player can take\n",
    "strategy = np.array([0.0, 0.0, 0.0]) #define strategy of the player (to start)"
   ]
  },
  {
   "cell_type": "code",
   "execution_count": 3,
   "metadata": {},
   "outputs": [],
   "source": [
    "def value(p1, p2):\n",
    "    if p1 == p2:\n",
    "        return 0\n",
    "    elif (p1-1) % NUM_ACTIONS == p2:\n",
    "        return 1\n",
    "    else:\n",
    "        return -1"
   ]
  },
  {
   "cell_type": "code",
   "execution_count": 4,
   "metadata": {},
   "outputs": [],
   "source": [
    "def normalize(strategy):\n",
    "    strategy = np.copy(strategy)\n",
    "    normalizingSum = np.sum(strategy)\n",
    "    if normalizingSum > 0:\n",
    "        strategy /= normalizingSum\n",
    "    else:\n",
    "        strategy = np.ones(strategy.shape[0]) / strategy.shape[0]\n",
    "    return strategy"
   ]
  },
  {
   "cell_type": "code",
   "execution_count": 5,
   "metadata": {},
   "outputs": [],
   "source": [
    "def getStrategy(regretSum):\n",
    "    return normalize(np.maximum(regretSum, 0))"
   ]
  },
  {
   "cell_type": "code",
   "execution_count": 6,
   "metadata": {},
   "outputs": [],
   "source": [
    "def getAverageStrategy(strategySum):\n",
    "    return normalize(strategySum)"
   ]
  },
  {
   "cell_type": "code",
   "execution_count": 7,
   "metadata": {},
   "outputs": [],
   "source": [
    "def getAction(strategy):\n",
    "    strategy = strategy / np.sum(strategy) #normalize\n",
    "    return np.searchsorted(np.cumsum(strategy), random.random())"
   ]
  },
  {
   "cell_type": "code",
   "execution_count": 8,
   "metadata": {},
   "outputs": [],
   "source": [
    "def innerTrain(regretSum, strategySum, oppStrategy):\n",
    "    #accumulate the current strategy based on regret\n",
    "    strategy = getStrategy(regretSum)\n",
    "    strategySum += strategy\n",
    "        \n",
    "    #select my action and opponent action\n",
    "    myAction = getAction(strategy)\n",
    "    otherAction = getAction(oppStrategy)\n",
    "        \n",
    "    #for rock paper scissors\n",
    "    actionUtility = np.zeros(NUM_ACTIONS)\n",
    "    actionUtility[otherAction] = 0\n",
    "    actionUtility[(otherAction + 1) % NUM_ACTIONS] = 1\n",
    "    actionUtility[(otherAction - 1) % NUM_ACTIONS] = -1\n",
    "    \n",
    "    #accumulate\n",
    "    regretSum += actionUtility - actionUtility[myAction]\n",
    "    \n",
    "    return regretSum, strategySum"
   ]
  },
  {
   "cell_type": "code",
   "execution_count": 9,
   "metadata": {},
   "outputs": [],
   "source": [
    "def train(iterations, oppStrategy):\n",
    "    regretSum = np.zeros(NUM_ACTIONS)\n",
    "    strategySum = np.zeros(NUM_ACTIONS)\n",
    "    \n",
    "    for i in range(iterations):\n",
    "        regretSum, strategySum = innerTrain(regretSum, strategySum, oppStrategy)\n",
    "        \n",
    "    return strategySum"
   ]
  },
  {
   "cell_type": "code",
   "execution_count": 24,
   "metadata": {},
   "outputs": [],
   "source": [
    "def train2p(oiterations, iterations):\n",
    "    strategySumP1 = np.zeros(NUM_ACTIONS)\n",
    "    strategySumP2 = np.zeros(NUM_ACTIONS)\n",
    "    \n",
    "    for j in range(oiterations):\n",
    "        oppStrategy = getAverageStrategy(strategySumP2)\n",
    "        regretSumP1 = np.zeros(NUM_ACTIONS)\n",
    "        for i in range(iterations):\n",
    "            #train the first player\n",
    "            regretSumP1, strategySumP1 = innerTrain(regretSumP1, strategySumP1, oppStrategy)\n",
    "        \n",
    "        oppStrategy = getAverageStrategy(strategySumP1)\n",
    "        regretSumP2 = np.zeros(NUM_ACTIONS)\n",
    "        for i in range(iterations):\n",
    "            #train the second player\n",
    "            regretSumP2, strategySumP2 = innerTrain(regretSumP2, strategySumP2, oppStrategy)\n",
    "        \n",
    "        print(\"%3d\" % j, normalize(strategySumP1), normalize(strategySumP2))\n",
    "        \n",
    "    return strategySumP1, strategySumP2"
   ]
  },
  {
   "cell_type": "code",
   "execution_count": 11,
   "metadata": {},
   "outputs": [],
   "source": [
    "def plotGames(strategy, oppStrategy):\n",
    "    vvv = []\n",
    "    for j in range(200):\n",
    "        vv = 0\n",
    "        for i in range(100):\n",
    "            myAction = getAction(strategy)\n",
    "            otherAction = getAction(oppStrategy)\n",
    "            vv += value(myAction, otherAction)\n",
    "        vvv.append(vv)\n",
    "    plt.plot(sorted(vvv))\n",
    "    print(f\"mean: {np.mean(vvv)}\\nmedian: {np.median(vvv)}\")"
   ]
  },
  {
   "cell_type": "code",
   "execution_count": 12,
   "metadata": {},
   "outputs": [
    {
     "name": "stdout",
     "output_type": "stream",
     "text": [
      "[0.33 0.33 0.33]\n",
      "mean: 0.735\n",
      "median: 1.0\n"
     ]
    },
    {
     "data": {
      "image/png": "[encoded data removed]",
      "text/plain": [
       "<Figure size 432x288 with 1 Axes>"
      ]
     },
     "metadata": {
      "needs_background": "light"
     },
     "output_type": "display_data"
    }
   ],
   "source": [
    "#here we are not exploiting at all...\n",
    "strategy = np.array([0.33,0.33,0.33])\n",
    "oppStrategy = np.array([0.4, 0.3, 0.3])\n",
    "#strategy = np.array([0,1,0]) #only throw paper, should be the optimal strategy for an agent that favours rock\n",
    "print(strategy)\n",
    "plotGames(strategy, oppStrategy)"
   ]
  },
  {
   "cell_type": "code",
   "execution_count": 13,
   "metadata": {},
   "outputs": [
    {
     "data": {
      "text/plain": [
       "array([0.00234112, 0.99706361, 0.00059527])"
      ]
     },
     "execution_count": 13,
     "metadata": {},
     "output_type": "execute_result"
    }
   ],
   "source": [
    "#train against the fixed strategy\n",
    "strategySum = train(100000, oppStrategy)\n",
    "getAverageStrategy(strategySum)"
   ]
  },
  {
   "cell_type": "code",
   "execution_count": 14,
   "metadata": {},
   "outputs": [
    {
     "name": "stdout",
     "output_type": "stream",
     "text": [
      "[0.00234112 0.99706361 0.00059527]\n",
      "mean: 9.965\n",
      "median: 10.0\n"
     ]
    },
    {
     "data": {
      "image/png": "[encoded data removed]",
      "text/plain": [
       "<Figure size 432x288 with 1 Axes>"
      ]
     },
     "metadata": {
      "needs_background": "light"
     },
     "output_type": "display_data"
    }
   ],
   "source": [
    "#plot the trained strategy (1 player)\n",
    "strategy = getAverageStrategy(strategySum)\n",
    "print(strategy)\n",
    "plotGames(strategy, oppStrategy)"
   ]
  },
  {
   "cell_type": "code",
   "execution_count": 26,
   "metadata": {},
   "outputs": [
    {
     "name": "stdout",
     "output_type": "stream",
     "text": [
      "  0 [0.15226749 0.79047787 0.05725465] [0.00003333 0.00003333 0.99993333]\n",
      "  1 [0.57600041 0.3953056  0.02869399] [0.00003333 0.499925   0.50004167]\n",
      "  2 [0.38405583 0.26359262 0.35235155] [0.29855153 0.36799847 0.33345   ]\n",
      "  3 [0.2890424  0.19912261 0.51183499] [0.47364996 0.27608111 0.25026893]\n",
      "  4 [0.2315437  0.35882831 0.40962799] [0.38119397 0.22108477 0.39772126]\n",
      "  5 [0.35938648 0.29922908 0.34138444] [0.48142237 0.18691682 0.33166082]\n",
      "  6 [0.33958532 0.36779468 0.29261999] [0.41291159 0.23472119 0.35236722]\n",
      "  7 [0.40075451 0.34319883 0.25604666] [0.36136516 0.32968598 0.30894886]\n",
      "  8 [0.3603822  0.40778699 0.23183081] [0.32126886 0.40374279 0.27498835]\n",
      "  9 [0.32438176 0.36724352 0.30837472] [0.28957664 0.36637213 0.34405123]\n",
      " 10 [0.29510579 0.33478415 0.37011006] [0.35231824 0.33311657 0.31456519]\n",
      " 11 [0.27168275 0.38897407 0.33934317] [0.32331592 0.30536658 0.3713175 ]\n",
      " 12 [0.32654268 0.35919645 0.31426087] [0.30001909 0.28481004 0.41517087]\n",
      " 13 [0.37416348 0.3339806  0.29185593] [0.27877455 0.33570488 0.38552057]\n",
      " 14 [0.35617216 0.31171744 0.3321104 ] [0.32196938 0.31815863 0.35987199]\n",
      " 15 [0.38813228 0.29245259 0.31941513] [0.30305237 0.35912213 0.33782551]\n",
      " 16 [0.36735564 0.27610148 0.35654288] [0.34403752 0.33800318 0.3179593 ]\n",
      " 17 [0.34815903 0.31488587 0.3369551 ] [0.36174979 0.33751863 0.30073157]\n",
      " 18 [0.33005743 0.34384305 0.32609953] [0.34449431 0.35566258 0.29984311]\n",
      " 19 [0.3138072  0.37129781 0.31489499] [0.32823499 0.33796722 0.33379779]\n",
      " 20 [0.31143273 0.35415116 0.33441611] [0.31332782 0.32556276 0.36110942]\n",
      " 21 [0.3291096  0.33813881 0.33275159] [0.30086583 0.31607626 0.38305791]\n",
      " 22 [0.3581195  0.32346742 0.31841309] [0.28897292 0.34447741 0.36654966]\n",
      " 23 [0.36108642 0.309991   0.32892258] [0.27701414 0.37158196 0.3514039 ]\n",
      " 24 [0.34702659 0.2976978  0.3552756 ] [0.30517924 0.35738    0.33744076]\n"
     ]
    },
    {
     "data": {
      "text/plain": [
       "(array([0.34702659, 0.2976978 , 0.3552756 ]),\n",
       " array([0.30517924, 0.35738   , 0.33744076]))"
      ]
     },
     "execution_count": 26,
     "metadata": {},
     "output_type": "execute_result"
    }
   ],
   "source": [
    "#now play when both agents minimize regret\n",
    "s1, s2 = train2p(25, 10000)\n",
    "getAverageStrategy(s1), getAverageStrategy(s2)"
   ]
  },
  {
   "cell_type": "code",
   "execution_count": 27,
   "metadata": {},
   "outputs": [
    {
     "name": "stdout",
     "output_type": "stream",
     "text": [
      "mean: -0.23\n",
      "median: -1.0\n"
     ]
    },
    {
     "data": {
      "image/png": "[encoded data removed]",
      "text/plain": [
       "<Figure size 432x288 with 1 Axes>"
      ]
     },
     "metadata": {
      "needs_background": "light"
     },
     "output_type": "display_data"
    }
   ],
   "source": [
    "#plot the trained strategy (2 player)\n",
    "plotGames(s1, s2)"
   ]
  },
  {
   "cell_type": "code",
   "execution_count": null,
   "metadata": {},
   "outputs": [],
   "source": []
  }
 ],
 "metadata": {
  "kernelspec": {
   "display_name": "Python 3.9.0 64-bit",
   "language": "python",
   "name": "python39064bitd4ece696d5024faf9a5ae80a54572629"
  },
  "language_info": {
   "codemirror_mode": {
    "name": "ipython",
    "version": 3
   },
   "file_extension": ".py",
   "mimetype": "text/x-python",
   "name": "python",
   "nbconvert_exporter": "python",
   "pygments_lexer": "ipython3",
   "version": "3.9.0"
  }
 },
 "nbformat": 4,
 "nbformat_minor": 4
}
